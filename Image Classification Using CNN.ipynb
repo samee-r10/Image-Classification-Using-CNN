{
  "nbformat": 4,
  "nbformat_minor": 0,
  "metadata": {
    "colab": {
      "provenance": [],
      "collapsed_sections": [
        "HXUxGjlWibpq",
        "Pc8BO-99ijzU",
        "eJADt22bi06E",
        "1kk9KAYgi5yC",
        "kXIei5uYjO1e",
        "5sna97PAjAlU"
      ],
      "gpuType": "T4"
    },
    "kernelspec": {
      "name": "python3",
      "display_name": "Python 3"
    },
    "language_info": {
      "name": "python"
    },
    "accelerator": "GPU",
    "widgets": {
      "application/vnd.jupyter.widget-state+json": {
        "57343fe905fe43f4bc584b33b4f49439": {
          "model_module": "@jupyter-widgets/controls",
          "model_name": "HBoxModel",
          "model_module_version": "1.5.0",
          "state": {
            "_dom_classes": [],
            "_model_module": "@jupyter-widgets/controls",
            "_model_module_version": "1.5.0",
            "_model_name": "HBoxModel",
            "_view_count": null,
            "_view_module": "@jupyter-widgets/controls",
            "_view_module_version": "1.5.0",
            "_view_name": "HBoxView",
            "box_style": "",
            "children": [
              "IPY_MODEL_43321fb9639046dfbb5fa5634eb48d93",
              "IPY_MODEL_491311b7a0be4a4782be88abff76803c",
              "IPY_MODEL_36d33a664bf2448b9bda06d9615cbda7"
            ],
            "layout": "IPY_MODEL_aff3ac0d0e9f43c7bebed2039e2077d2"
          }
        },
        "43321fb9639046dfbb5fa5634eb48d93": {
          "model_module": "@jupyter-widgets/controls",
          "model_name": "HTMLModel",
          "model_module_version": "1.5.0",
          "state": {
            "_dom_classes": [],
            "_model_module": "@jupyter-widgets/controls",
            "_model_module_version": "1.5.0",
            "_model_name": "HTMLModel",
            "_view_count": null,
            "_view_module": "@jupyter-widgets/controls",
            "_view_module_version": "1.5.0",
            "_view_name": "HTMLView",
            "description": "",
            "description_tooltip": null,
            "layout": "IPY_MODEL_eb4122475c904881bb602dec7cdf79d6",
            "placeholder": "​",
            "style": "IPY_MODEL_c132d67f47ce40038e31dae2bcbf996b",
            "value": "100%"
          }
        },
        "491311b7a0be4a4782be88abff76803c": {
          "model_module": "@jupyter-widgets/controls",
          "model_name": "FloatProgressModel",
          "model_module_version": "1.5.0",
          "state": {
            "_dom_classes": [],
            "_model_module": "@jupyter-widgets/controls",
            "_model_module_version": "1.5.0",
            "_model_name": "FloatProgressModel",
            "_view_count": null,
            "_view_module": "@jupyter-widgets/controls",
            "_view_module_version": "1.5.0",
            "_view_name": "ProgressView",
            "bar_style": "success",
            "description": "",
            "description_tooltip": null,
            "layout": "IPY_MODEL_ef9b801de7204d87911039914397e613",
            "max": 787,
            "min": 0,
            "orientation": "horizontal",
            "style": "IPY_MODEL_4ef400b0711d49e8899d0c26cf0fbddd",
            "value": 787
          }
        },
        "36d33a664bf2448b9bda06d9615cbda7": {
          "model_module": "@jupyter-widgets/controls",
          "model_name": "HTMLModel",
          "model_module_version": "1.5.0",
          "state": {
            "_dom_classes": [],
            "_model_module": "@jupyter-widgets/controls",
            "_model_module_version": "1.5.0",
            "_model_name": "HTMLModel",
            "_view_count": null,
            "_view_module": "@jupyter-widgets/controls",
            "_view_module_version": "1.5.0",
            "_view_name": "HTMLView",
            "description": "",
            "description_tooltip": null,
            "layout": "IPY_MODEL_ae85271360ec419e8235fa2d4431c312",
            "placeholder": "​",
            "style": "IPY_MODEL_5709632864184702af9e46c73dc7bb56",
            "value": " 787/787 [00:01&lt;00:00, 509.61it/s]"
          }
        },
        "aff3ac0d0e9f43c7bebed2039e2077d2": {
          "model_module": "@jupyter-widgets/base",
          "model_name": "LayoutModel",
          "model_module_version": "1.2.0",
          "state": {
            "_model_module": "@jupyter-widgets/base",
            "_model_module_version": "1.2.0",
            "_model_name": "LayoutModel",
            "_view_count": null,
            "_view_module": "@jupyter-widgets/base",
            "_view_module_version": "1.2.0",
            "_view_name": "LayoutView",
            "align_content": null,
            "align_items": null,
            "align_self": null,
            "border": null,
            "bottom": null,
            "display": null,
            "flex": null,
            "flex_flow": null,
            "grid_area": null,
            "grid_auto_columns": null,
            "grid_auto_flow": null,
            "grid_auto_rows": null,
            "grid_column": null,
            "grid_gap": null,
            "grid_row": null,
            "grid_template_areas": null,
            "grid_template_columns": null,
            "grid_template_rows": null,
            "height": null,
            "justify_content": null,
            "justify_items": null,
            "left": null,
            "margin": null,
            "max_height": null,
            "max_width": null,
            "min_height": null,
            "min_width": null,
            "object_fit": null,
            "object_position": null,
            "order": null,
            "overflow": null,
            "overflow_x": null,
            "overflow_y": null,
            "padding": null,
            "right": null,
            "top": null,
            "visibility": null,
            "width": null
          }
        },
        "eb4122475c904881bb602dec7cdf79d6": {
          "model_module": "@jupyter-widgets/base",
          "model_name": "LayoutModel",
          "model_module_version": "1.2.0",
          "state": {
            "_model_module": "@jupyter-widgets/base",
            "_model_module_version": "1.2.0",
            "_model_name": "LayoutModel",
            "_view_count": null,
            "_view_module": "@jupyter-widgets/base",
            "_view_module_version": "1.2.0",
            "_view_name": "LayoutView",
            "align_content": null,
            "align_items": null,
            "align_self": null,
            "border": null,
            "bottom": null,
            "display": null,
            "flex": null,
            "flex_flow": null,
            "grid_area": null,
            "grid_auto_columns": null,
            "grid_auto_flow": null,
            "grid_auto_rows": null,
            "grid_column": null,
            "grid_gap": null,
            "grid_row": null,
            "grid_template_areas": null,
            "grid_template_columns": null,
            "grid_template_rows": null,
            "height": null,
            "justify_content": null,
            "justify_items": null,
            "left": null,
            "margin": null,
            "max_height": null,
            "max_width": null,
            "min_height": null,
            "min_width": null,
            "object_fit": null,
            "object_position": null,
            "order": null,
            "overflow": null,
            "overflow_x": null,
            "overflow_y": null,
            "padding": null,
            "right": null,
            "top": null,
            "visibility": null,
            "width": null
          }
        },
        "c132d67f47ce40038e31dae2bcbf996b": {
          "model_module": "@jupyter-widgets/controls",
          "model_name": "DescriptionStyleModel",
          "model_module_version": "1.5.0",
          "state": {
            "_model_module": "@jupyter-widgets/controls",
            "_model_module_version": "1.5.0",
            "_model_name": "DescriptionStyleModel",
            "_view_count": null,
            "_view_module": "@jupyter-widgets/base",
            "_view_module_version": "1.2.0",
            "_view_name": "StyleView",
            "description_width": ""
          }
        },
        "ef9b801de7204d87911039914397e613": {
          "model_module": "@jupyter-widgets/base",
          "model_name": "LayoutModel",
          "model_module_version": "1.2.0",
          "state": {
            "_model_module": "@jupyter-widgets/base",
            "_model_module_version": "1.2.0",
            "_model_name": "LayoutModel",
            "_view_count": null,
            "_view_module": "@jupyter-widgets/base",
            "_view_module_version": "1.2.0",
            "_view_name": "LayoutView",
            "align_content": null,
            "align_items": null,
            "align_self": null,
            "border": null,
            "bottom": null,
            "display": null,
            "flex": null,
            "flex_flow": null,
            "grid_area": null,
            "grid_auto_columns": null,
            "grid_auto_flow": null,
            "grid_auto_rows": null,
            "grid_column": null,
            "grid_gap": null,
            "grid_row": null,
            "grid_template_areas": null,
            "grid_template_columns": null,
            "grid_template_rows": null,
            "height": null,
            "justify_content": null,
            "justify_items": null,
            "left": null,
            "margin": null,
            "max_height": null,
            "max_width": null,
            "min_height": null,
            "min_width": null,
            "object_fit": null,
            "object_position": null,
            "order": null,
            "overflow": null,
            "overflow_x": null,
            "overflow_y": null,
            "padding": null,
            "right": null,
            "top": null,
            "visibility": null,
            "width": null
          }
        },
        "4ef400b0711d49e8899d0c26cf0fbddd": {
          "model_module": "@jupyter-widgets/controls",
          "model_name": "ProgressStyleModel",
          "model_module_version": "1.5.0",
          "state": {
            "_model_module": "@jupyter-widgets/controls",
            "_model_module_version": "1.5.0",
            "_model_name": "ProgressStyleModel",
            "_view_count": null,
            "_view_module": "@jupyter-widgets/base",
            "_view_module_version": "1.2.0",
            "_view_name": "StyleView",
            "bar_color": null,
            "description_width": ""
          }
        },
        "ae85271360ec419e8235fa2d4431c312": {
          "model_module": "@jupyter-widgets/base",
          "model_name": "LayoutModel",
          "model_module_version": "1.2.0",
          "state": {
            "_model_module": "@jupyter-widgets/base",
            "_model_module_version": "1.2.0",
            "_model_name": "LayoutModel",
            "_view_count": null,
            "_view_module": "@jupyter-widgets/base",
            "_view_module_version": "1.2.0",
            "_view_name": "LayoutView",
            "align_content": null,
            "align_items": null,
            "align_self": null,
            "border": null,
            "bottom": null,
            "display": null,
            "flex": null,
            "flex_flow": null,
            "grid_area": null,
            "grid_auto_columns": null,
            "grid_auto_flow": null,
            "grid_auto_rows": null,
            "grid_column": null,
            "grid_gap": null,
            "grid_row": null,
            "grid_template_areas": null,
            "grid_template_columns": null,
            "grid_template_rows": null,
            "height": null,
            "justify_content": null,
            "justify_items": null,
            "left": null,
            "margin": null,
            "max_height": null,
            "max_width": null,
            "min_height": null,
            "min_width": null,
            "object_fit": null,
            "object_position": null,
            "order": null,
            "overflow": null,
            "overflow_x": null,
            "overflow_y": null,
            "padding": null,
            "right": null,
            "top": null,
            "visibility": null,
            "width": null
          }
        },
        "5709632864184702af9e46c73dc7bb56": {
          "model_module": "@jupyter-widgets/controls",
          "model_name": "DescriptionStyleModel",
          "model_module_version": "1.5.0",
          "state": {
            "_model_module": "@jupyter-widgets/controls",
            "_model_module_version": "1.5.0",
            "_model_name": "DescriptionStyleModel",
            "_view_count": null,
            "_view_module": "@jupyter-widgets/base",
            "_view_module_version": "1.2.0",
            "_view_name": "StyleView",
            "description_width": ""
          }
        }
      }
    }
  },
  "cells": [
    {
      "cell_type": "markdown",
      "source": [
        "# Image Classification Using CNN"
      ],
      "metadata": {
        "id": "HXUxGjlWibpq"
      }
    },
    {
      "cell_type": "markdown",
      "source": [
        "### Importing Required Libraries"
      ],
      "metadata": {
        "id": "Pc8BO-99ijzU"
      }
    },
    {
      "cell_type": "code",
      "execution_count": 42,
      "metadata": {
        "colab": {
          "base_uri": "https://localhost:8080/"
        },
        "id": "n47fQX1CVbb3",
        "outputId": "a48e23ef-49af-46f8-9b6d-fa3c27b2a504"
      },
      "outputs": [
        {
          "output_type": "stream",
          "name": "stdout",
          "text": [
            "2.15.0\n"
          ]
        }
      ],
      "source": [
        "from tensorflow.keras.models import Sequential\n",
        "from tensorflow.keras.layers import Conv2D\n",
        "from tensorflow.keras.layers import MaxPooling2D\n",
        "from tensorflow.keras.layers import Activation\n",
        "from tensorflow.keras.layers import Flatten\n",
        "from tensorflow.keras.layers import Dense\n",
        "from tensorflow.keras import backend as K\n",
        "from tensorflow.keras.preprocessing.image import ImageDataGenerator\n",
        "from tensorflow.keras.optimizers import Adam\n",
        "from tensorflow.keras.preprocessing.image import img_to_array\n",
        "from tensorflow.keras.utils import to_categorical\n",
        "from sklearn.metrics import classification_report\n",
        "from sklearn.model_selection import train_test_split\n",
        "\n",
        "from imutils import paths\n",
        "import matplotlib.pyplot as plt\n",
        "import numpy as np\n",
        "import argparse\n",
        "import random\n",
        "from tensorflow.keras.preprocessing.image import img_to_array\n",
        "from tensorflow.keras.models import load_model\n",
        "\n",
        "import cv2\n",
        "import os\n",
        "import numpy as np\n",
        "import argparse\n",
        "import imutils\n",
        "import cv2\n",
        "import matplotlib.pyplot as plt\n",
        "from imutils import paths\n",
        "%matplotlib inline\n",
        "\n",
        "import warnings\n",
        "from tqdm import tqdm_notebook as tqdm\n",
        "import itertools\n",
        "\n",
        "import tensorflow as tf\n",
        "print(tf.__version__)\n",
        "warnings.filterwarnings(\"ignore\")\n",
        "SEED = 42   # set random seed"
      ]
    },
    {
      "cell_type": "markdown",
      "source": [
        "### Loading the data set"
      ],
      "metadata": {
        "id": "eJADt22bi06E"
      }
    },
    {
      "cell_type": "code",
      "source": [
        "import os\n",
        "os.chdir(\"/content/drive/MyDrive/Deep Learning Exam\")"
      ],
      "metadata": {
        "id": "cfoClzo6VrNO"
      },
      "execution_count": 4,
      "outputs": []
    },
    {
      "cell_type": "code",
      "source": [
        "!dir"
      ],
      "metadata": {
        "colab": {
          "base_uri": "https://localhost:8080/"
        },
        "id": "PaPrQrJyWltz",
        "outputId": "d462215f-6ff5-4af2-d53a-aee42ea41b6e"
      },
      "execution_count": 5,
      "outputs": [
        {
          "output_type": "stream",
          "name": "stdout",
          "text": [
            "dataset  test_examples\tUntitled0.ipynb\n"
          ]
        }
      ]
    },
    {
      "cell_type": "markdown",
      "source": [
        "### CNN Model Architecture"
      ],
      "metadata": {
        "id": "1kk9KAYgi5yC"
      }
    },
    {
      "cell_type": "code",
      "source": [
        "# create CNN model\n",
        "class LeNet:\n",
        "    @staticmethod\n",
        "    def build(width, height, depth, classes):\n",
        "\n",
        "        # initialize the model\n",
        "        model = Sequential()\n",
        "        inputShape = (height, width, depth) # (h, h, channel)\n",
        "\n",
        "        # if we are using \"channels first\", update the input shape\n",
        "        if K.image_data_format() == \"channels_first\":\n",
        "            inputShape = (depth, height, width)\n",
        "\n",
        "        # first set of CONV => RELU => POOL layers\n",
        "        model.add(Conv2D(20, (5,5), padding=\"same\", input_shape=inputShape))\n",
        "        model.add(Activation(\"relu\"))\n",
        "        model.add(MaxPooling2D(pool_size=(2, 2), strides=(2, 2)))\n",
        "\n",
        "        # second set of CONV => RELU => POOL layers\n",
        "        model.add(Conv2D(50, (5,5), padding=\"same\"))\n",
        "        model.add(Activation(\"relu\"))\n",
        "        model.add(MaxPooling2D(pool_size=(2, 2), strides=(2, 2)))\n",
        "\n",
        "        # third set of CONV => RELU => POOL layers\n",
        "        model.add(Conv2D(100, (5,5), padding=\"same\", input_shape=inputShape))\n",
        "        model.add(Activation(\"relu\"))\n",
        "        model.add(MaxPooling2D(pool_size=(2, 2), strides=(2, 2)))\n",
        "\n",
        "        # first (and only) set of FC => RELU layers\n",
        "        model.add(Flatten())\n",
        "        model.add(Dense(500))\n",
        "        model.add(Activation(\"relu\"))\n",
        "\n",
        "        # softmax classifier\n",
        "        model.add(Dense(classes))\n",
        "        model.add(Activation(\"softmax\"))\n",
        "\n",
        "        # return the constructed network architecture\n",
        "        return model"
      ],
      "metadata": {
        "id": "2UCnggwHWraZ"
      },
      "execution_count": 20,
      "outputs": []
    },
    {
      "cell_type": "code",
      "source": [],
      "metadata": {
        "id": "Yr-TiH-qWrdB"
      },
      "execution_count": 20,
      "outputs": []
    },
    {
      "cell_type": "code",
      "source": [
        "# initialize the data and labels\n",
        "print(\"[INFO] loading images...\")\n",
        "data = []\n",
        "labels = []\n",
        "\n",
        "# grab the image paths and randomly shuffle them\n",
        "imagePaths = sorted(list(paths.list_images(\"dataset\")))\n",
        "random.seed(42)\n",
        "random.shuffle(imagePaths)\n",
        "\n",
        "# progress bar\n",
        "with tqdm(total=len(imagePaths)) as pbar: # devdattasupnekar.ds@gmail.com\n",
        "\n",
        "    # loop over the input images\n",
        "    for idx, imagePath in enumerate(imagePaths):\n",
        "        # load the image, pre-process it, and store it in the data list\n",
        "        image = cv2.imread(imagePath)\n",
        "        image = cv2.resize(image, (28, 28))\n",
        "        image = img_to_array(image)\n",
        "        data.append(image)\n",
        "\n",
        "        # extract the class label from the image path and update the\n",
        "        # labels list\n",
        "        label = imagePath.split(os.path.sep)[-2]\n",
        "\n",
        "        if label == \"Boots\":\n",
        "            label = 0\n",
        "        elif label == \"Sandals\":\n",
        "            label = 1\n",
        "        elif label == \"Slippers\":\n",
        "            label = 2\n",
        "\n",
        "        labels.append(label)\n",
        "\n",
        "        # update the progressbar\n",
        "        pbar.update(1)"
      ],
      "metadata": {
        "colab": {
          "base_uri": "https://localhost:8080/",
          "height": 66,
          "referenced_widgets": [
            "57343fe905fe43f4bc584b33b4f49439",
            "43321fb9639046dfbb5fa5634eb48d93",
            "491311b7a0be4a4782be88abff76803c",
            "36d33a664bf2448b9bda06d9615cbda7",
            "aff3ac0d0e9f43c7bebed2039e2077d2",
            "eb4122475c904881bb602dec7cdf79d6",
            "c132d67f47ce40038e31dae2bcbf996b",
            "ef9b801de7204d87911039914397e613",
            "4ef400b0711d49e8899d0c26cf0fbddd",
            "ae85271360ec419e8235fa2d4431c312",
            "5709632864184702af9e46c73dc7bb56"
          ]
        },
        "id": "VwcgdleMWrfI",
        "outputId": "10da773c-9ec9-4c36-c406-ba0dcea5933b"
      },
      "execution_count": 21,
      "outputs": [
        {
          "output_type": "stream",
          "name": "stdout",
          "text": [
            "[INFO] loading images...\n"
          ]
        },
        {
          "output_type": "display_data",
          "data": {
            "text/plain": [
              "  0%|          | 0/787 [00:00<?, ?it/s]"
            ],
            "application/vnd.jupyter.widget-view+json": {
              "version_major": 2,
              "version_minor": 0,
              "model_id": "57343fe905fe43f4bc584b33b4f49439"
            }
          },
          "metadata": {}
        }
      ]
    },
    {
      "cell_type": "code",
      "source": [
        "data[0].shape"
      ],
      "metadata": {
        "colab": {
          "base_uri": "https://localhost:8080/"
        },
        "id": "a0MsQyWVZn35",
        "outputId": "135ae44f-c0f8-4da6-8ebc-54dc0f116dca"
      },
      "execution_count": 22,
      "outputs": [
        {
          "output_type": "execute_result",
          "data": {
            "text/plain": [
              "(28, 28, 3)"
            ]
          },
          "metadata": {},
          "execution_count": 22
        }
      ]
    },
    {
      "cell_type": "code",
      "source": [
        "data = np.array(data, dtype=\"float\") / 255.0\n",
        "labels = np.array(labels)"
      ],
      "metadata": {
        "id": "-CV7hg2hWrhZ"
      },
      "execution_count": 23,
      "outputs": []
    },
    {
      "cell_type": "code",
      "source": [
        "(trainX, testX, trainY, testY) = train_test_split(data, labels, test_size=0.25, random_state=42)"
      ],
      "metadata": {
        "id": "e6hO6mcgWrj3"
      },
      "execution_count": 24,
      "outputs": []
    },
    {
      "cell_type": "code",
      "source": [
        "trainX.shape"
      ],
      "metadata": {
        "colab": {
          "base_uri": "https://localhost:8080/"
        },
        "id": "63CbykqKWrmD",
        "outputId": "1bcbf6ae-d490-434a-f6f1-9cf26063ca29"
      },
      "execution_count": 25,
      "outputs": [
        {
          "output_type": "execute_result",
          "data": {
            "text/plain": [
              "(590, 28, 28, 3)"
            ]
          },
          "metadata": {},
          "execution_count": 25
        }
      ]
    },
    {
      "cell_type": "code",
      "source": [
        "trainY.shape"
      ],
      "metadata": {
        "colab": {
          "base_uri": "https://localhost:8080/"
        },
        "id": "1B2c8sI2WroP",
        "outputId": "5852800b-b9dd-46ad-db93-6b585c724d4f"
      },
      "execution_count": 26,
      "outputs": [
        {
          "output_type": "execute_result",
          "data": {
            "text/plain": [
              "(590,)"
            ]
          },
          "metadata": {},
          "execution_count": 26
        }
      ]
    },
    {
      "cell_type": "code",
      "source": [
        "trainY = to_categorical(trainY, num_classes=3)\n",
        "testY = to_categorical(testY, num_classes=3)"
      ],
      "metadata": {
        "id": "SnqsOUHLWrqr"
      },
      "execution_count": 27,
      "outputs": []
    },
    {
      "cell_type": "code",
      "source": [
        "trainY[0]"
      ],
      "metadata": {
        "colab": {
          "base_uri": "https://localhost:8080/"
        },
        "id": "uj4UCxLzWrs7",
        "outputId": "32399fa7-8439-4fe1-e335-decb87207c39"
      },
      "execution_count": 28,
      "outputs": [
        {
          "output_type": "execute_result",
          "data": {
            "text/plain": [
              "array([0., 0., 1.], dtype=float32)"
            ]
          },
          "metadata": {},
          "execution_count": 28
        }
      ]
    },
    {
      "cell_type": "code",
      "source": [
        "# Data Preprocessing (Augumentation)"
      ],
      "metadata": {
        "id": "E06ATdxOWrvR"
      },
      "execution_count": 29,
      "outputs": []
    },
    {
      "cell_type": "code",
      "source": [
        "# construct the image generator for data augmentation\n",
        "aug = ImageDataGenerator(rotation_range=30,\n",
        "                         width_shift_range=0.1,\n",
        "                         height_shift_range=0.1,\n",
        "                         shear_range=0.2,\n",
        "                         zoom_range=0.2,\n",
        "                         horizontal_flip=True,\n",
        "                         fill_mode=\"nearest\")"
      ],
      "metadata": {
        "id": "GgOUOgxVWrxI"
      },
      "execution_count": 30,
      "outputs": []
    },
    {
      "cell_type": "code",
      "source": [
        "EPOCHS = 50\n",
        "INIT_LR = 1e-3\n",
        "BS = 32\n",
        "\n",
        "# initialize the model\n",
        "print(\"[INFO] compiling model...\")\n",
        "model = LeNet.build(width=28, height=28, depth=3, classes=3)\n",
        "opt = Adam(lr=INIT_LR)\n",
        "\n",
        "model.compile(loss=\"categorical_crossentropy\", optimizer=opt, metrics=[\"accuracy\"])\n",
        "print(\"[INFO] model complied...\")"
      ],
      "metadata": {
        "colab": {
          "base_uri": "https://localhost:8080/"
        },
        "id": "TiWwvXzlWr0k",
        "outputId": "ecdb6829-4936-499a-cfc0-2b40fcb54f2f"
      },
      "execution_count": 31,
      "outputs": [
        {
          "output_type": "stream",
          "name": "stderr",
          "text": [
            "WARNING:absl:`lr` is deprecated in Keras optimizer, please use `learning_rate` or use the legacy optimizer, e.g.,tf.keras.optimizers.legacy.Adam.\n"
          ]
        },
        {
          "output_type": "stream",
          "name": "stdout",
          "text": [
            "[INFO] compiling model...\n",
            "[INFO] model complied...\n"
          ]
        }
      ]
    },
    {
      "cell_type": "code",
      "source": [
        "print(model.summary())"
      ],
      "metadata": {
        "colab": {
          "base_uri": "https://localhost:8080/"
        },
        "id": "6gNxjtbga-j-",
        "outputId": "3d3d9a28-5eff-43b5-c4a2-221138b84a71"
      },
      "execution_count": 32,
      "outputs": [
        {
          "output_type": "stream",
          "name": "stdout",
          "text": [
            "Model: \"sequential_1\"\n",
            "_________________________________________________________________\n",
            " Layer (type)                Output Shape              Param #   \n",
            "=================================================================\n",
            " conv2d_3 (Conv2D)           (None, 28, 28, 20)        1520      \n",
            "                                                                 \n",
            " activation_5 (Activation)   (None, 28, 28, 20)        0         \n",
            "                                                                 \n",
            " max_pooling2d_3 (MaxPoolin  (None, 14, 14, 20)        0         \n",
            " g2D)                                                            \n",
            "                                                                 \n",
            " conv2d_4 (Conv2D)           (None, 14, 14, 50)        25050     \n",
            "                                                                 \n",
            " activation_6 (Activation)   (None, 14, 14, 50)        0         \n",
            "                                                                 \n",
            " max_pooling2d_4 (MaxPoolin  (None, 7, 7, 50)          0         \n",
            " g2D)                                                            \n",
            "                                                                 \n",
            " conv2d_5 (Conv2D)           (None, 7, 7, 100)         125100    \n",
            "                                                                 \n",
            " activation_7 (Activation)   (None, 7, 7, 100)         0         \n",
            "                                                                 \n",
            " max_pooling2d_5 (MaxPoolin  (None, 3, 3, 100)         0         \n",
            " g2D)                                                            \n",
            "                                                                 \n",
            " flatten_1 (Flatten)         (None, 900)               0         \n",
            "                                                                 \n",
            " dense_2 (Dense)             (None, 500)               450500    \n",
            "                                                                 \n",
            " activation_8 (Activation)   (None, 500)               0         \n",
            "                                                                 \n",
            " dense_3 (Dense)             (None, 3)                 1503      \n",
            "                                                                 \n",
            " activation_9 (Activation)   (None, 3)                 0         \n",
            "                                                                 \n",
            "=================================================================\n",
            "Total params: 603673 (2.30 MB)\n",
            "Trainable params: 603673 (2.30 MB)\n",
            "Non-trainable params: 0 (0.00 Byte)\n",
            "_________________________________________________________________\n",
            "None\n"
          ]
        }
      ]
    },
    {
      "cell_type": "code",
      "source": [
        "# train the network\n",
        "\n",
        "EPOCH  = 150\n",
        "print(\"[INFO] training network...\")\n",
        "H = model.fit(x=aug.flow(trainX, trainY, batch_size=BS),\n",
        "              validation_data=(testX, testY),\n",
        "              steps_per_epoch=len(trainX) // BS,\n",
        "              epochs=EPOCH,\n",
        "              verbose=1)\n",
        "\n",
        "\n",
        "# save the model and label binarizer to disk\n",
        "print(\"[INFO] serializing network ...\")\n",
        "model.save(\"cnn_model_{}.h5\".format(EPOCH))"
      ],
      "metadata": {
        "colab": {
          "base_uri": "https://localhost:8080/"
        },
        "id": "uc_qK-1obEn2",
        "outputId": "5b2fc052-bf7f-4d4a-872a-1f68002861a6"
      },
      "execution_count": 33,
      "outputs": [
        {
          "output_type": "stream",
          "name": "stdout",
          "text": [
            "[INFO] training network...\n",
            "Epoch 1/150\n",
            "18/18 [==============================] - 7s 53ms/step - loss: 1.0514 - accuracy: 0.4194 - val_loss: 0.9031 - val_accuracy: 0.5431\n",
            "Epoch 2/150\n",
            "18/18 [==============================] - 0s 20ms/step - loss: 0.8397 - accuracy: 0.6057 - val_loss: 0.8102 - val_accuracy: 0.5787\n",
            "Epoch 3/150\n",
            "18/18 [==============================] - 0s 20ms/step - loss: 0.7588 - accuracy: 0.6183 - val_loss: 0.5304 - val_accuracy: 0.7817\n",
            "Epoch 4/150\n",
            "18/18 [==============================] - 0s 22ms/step - loss: 0.6281 - accuracy: 0.7025 - val_loss: 0.4888 - val_accuracy: 0.7766\n",
            "Epoch 5/150\n",
            "18/18 [==============================] - 0s 21ms/step - loss: 0.6286 - accuracy: 0.6953 - val_loss: 0.5802 - val_accuracy: 0.7259\n",
            "Epoch 6/150\n",
            "18/18 [==============================] - 0s 20ms/step - loss: 0.5685 - accuracy: 0.7384 - val_loss: 0.4467 - val_accuracy: 0.7716\n",
            "Epoch 7/150\n",
            "18/18 [==============================] - 0s 20ms/step - loss: 0.5618 - accuracy: 0.7312 - val_loss: 0.4971 - val_accuracy: 0.8071\n",
            "Epoch 8/150\n",
            "18/18 [==============================] - 0s 20ms/step - loss: 0.5439 - accuracy: 0.7473 - val_loss: 0.3374 - val_accuracy: 0.8934\n",
            "Epoch 9/150\n",
            "18/18 [==============================] - 0s 19ms/step - loss: 0.4539 - accuracy: 0.8082 - val_loss: 0.3798 - val_accuracy: 0.8528\n",
            "Epoch 10/150\n",
            "18/18 [==============================] - 0s 20ms/step - loss: 0.4606 - accuracy: 0.7903 - val_loss: 0.3806 - val_accuracy: 0.7919\n",
            "Epoch 11/150\n",
            "18/18 [==============================] - 0s 20ms/step - loss: 0.4499 - accuracy: 0.8154 - val_loss: 0.2770 - val_accuracy: 0.8883\n",
            "Epoch 12/150\n",
            "18/18 [==============================] - 1s 34ms/step - loss: 0.4220 - accuracy: 0.8262 - val_loss: 0.2400 - val_accuracy: 0.9442\n",
            "Epoch 13/150\n",
            "18/18 [==============================] - 1s 33ms/step - loss: 0.3875 - accuracy: 0.8262 - val_loss: 0.2793 - val_accuracy: 0.9036\n",
            "Epoch 14/150\n",
            "18/18 [==============================] - 1s 33ms/step - loss: 0.3500 - accuracy: 0.8495 - val_loss: 0.3413 - val_accuracy: 0.8629\n",
            "Epoch 15/150\n",
            "18/18 [==============================] - 1s 32ms/step - loss: 0.3637 - accuracy: 0.8495 - val_loss: 0.3597 - val_accuracy: 0.8122\n",
            "Epoch 16/150\n",
            "18/18 [==============================] - 1s 33ms/step - loss: 0.4149 - accuracy: 0.8333 - val_loss: 0.3286 - val_accuracy: 0.8426\n",
            "Epoch 17/150\n",
            "18/18 [==============================] - 1s 33ms/step - loss: 0.4197 - accuracy: 0.8333 - val_loss: 0.2905 - val_accuracy: 0.9036\n",
            "Epoch 18/150\n",
            "18/18 [==============================] - 1s 35ms/step - loss: 0.3847 - accuracy: 0.8369 - val_loss: 0.4312 - val_accuracy: 0.8325\n",
            "Epoch 19/150\n",
            "18/18 [==============================] - 0s 20ms/step - loss: 0.3819 - accuracy: 0.8548 - val_loss: 0.2410 - val_accuracy: 0.9036\n",
            "Epoch 20/150\n",
            "18/18 [==============================] - 0s 19ms/step - loss: 0.3653 - accuracy: 0.8638 - val_loss: 0.2273 - val_accuracy: 0.9239\n",
            "Epoch 21/150\n",
            "18/18 [==============================] - 0s 22ms/step - loss: 0.3796 - accuracy: 0.8692 - val_loss: 0.1897 - val_accuracy: 0.9289\n",
            "Epoch 22/150\n",
            "18/18 [==============================] - 0s 23ms/step - loss: 0.3422 - accuracy: 0.8656 - val_loss: 0.1955 - val_accuracy: 0.9391\n",
            "Epoch 23/150\n",
            "18/18 [==============================] - 0s 19ms/step - loss: 0.2948 - accuracy: 0.8853 - val_loss: 0.1944 - val_accuracy: 0.9239\n",
            "Epoch 24/150\n",
            "18/18 [==============================] - 0s 21ms/step - loss: 0.3123 - accuracy: 0.8733 - val_loss: 0.1602 - val_accuracy: 0.9442\n",
            "Epoch 25/150\n",
            "18/18 [==============================] - 0s 20ms/step - loss: 0.3000 - accuracy: 0.8799 - val_loss: 0.1890 - val_accuracy: 0.9340\n",
            "Epoch 26/150\n",
            "18/18 [==============================] - 0s 21ms/step - loss: 0.3362 - accuracy: 0.8799 - val_loss: 0.1851 - val_accuracy: 0.9239\n",
            "Epoch 27/150\n",
            "18/18 [==============================] - 0s 19ms/step - loss: 0.3088 - accuracy: 0.8943 - val_loss: 0.1878 - val_accuracy: 0.9340\n",
            "Epoch 28/150\n",
            "18/18 [==============================] - 0s 20ms/step - loss: 0.3252 - accuracy: 0.8674 - val_loss: 0.1824 - val_accuracy: 0.9289\n",
            "Epoch 29/150\n",
            "18/18 [==============================] - 0s 21ms/step - loss: 0.3014 - accuracy: 0.8715 - val_loss: 0.1497 - val_accuracy: 0.9442\n",
            "Epoch 30/150\n",
            "18/18 [==============================] - 0s 19ms/step - loss: 0.3146 - accuracy: 0.8763 - val_loss: 0.2149 - val_accuracy: 0.9239\n",
            "Epoch 31/150\n",
            "18/18 [==============================] - 0s 20ms/step - loss: 0.2847 - accuracy: 0.8996 - val_loss: 0.1874 - val_accuracy: 0.9492\n",
            "Epoch 32/150\n",
            "18/18 [==============================] - 0s 21ms/step - loss: 0.2391 - accuracy: 0.9050 - val_loss: 0.1605 - val_accuracy: 0.9239\n",
            "Epoch 33/150\n",
            "18/18 [==============================] - 0s 22ms/step - loss: 0.3012 - accuracy: 0.8889 - val_loss: 0.1580 - val_accuracy: 0.9492\n",
            "Epoch 34/150\n",
            "18/18 [==============================] - 0s 22ms/step - loss: 0.3285 - accuracy: 0.8638 - val_loss: 0.4276 - val_accuracy: 0.8020\n",
            "Epoch 35/150\n",
            "18/18 [==============================] - 0s 20ms/step - loss: 0.3090 - accuracy: 0.8978 - val_loss: 0.1875 - val_accuracy: 0.9340\n",
            "Epoch 36/150\n",
            "18/18 [==============================] - 0s 20ms/step - loss: 0.3172 - accuracy: 0.8710 - val_loss: 0.2088 - val_accuracy: 0.9289\n",
            "Epoch 37/150\n",
            "18/18 [==============================] - 0s 24ms/step - loss: 0.2200 - accuracy: 0.9211 - val_loss: 0.1503 - val_accuracy: 0.9391\n",
            "Epoch 38/150\n",
            "18/18 [==============================] - 1s 33ms/step - loss: 0.2731 - accuracy: 0.8961 - val_loss: 0.1377 - val_accuracy: 0.9442\n",
            "Epoch 39/150\n",
            "18/18 [==============================] - 1s 34ms/step - loss: 0.2778 - accuracy: 0.8889 - val_loss: 0.1701 - val_accuracy: 0.9492\n",
            "Epoch 40/150\n",
            "18/18 [==============================] - 1s 35ms/step - loss: 0.1948 - accuracy: 0.9229 - val_loss: 0.1147 - val_accuracy: 0.9594\n",
            "Epoch 41/150\n",
            "18/18 [==============================] - 1s 35ms/step - loss: 0.2683 - accuracy: 0.9086 - val_loss: 0.1961 - val_accuracy: 0.9086\n",
            "Epoch 42/150\n",
            "18/18 [==============================] - 1s 37ms/step - loss: 0.2035 - accuracy: 0.9283 - val_loss: 0.1932 - val_accuracy: 0.9188\n",
            "Epoch 43/150\n",
            "18/18 [==============================] - 0s 24ms/step - loss: 0.2222 - accuracy: 0.9068 - val_loss: 0.1074 - val_accuracy: 0.9594\n",
            "Epoch 44/150\n",
            "18/18 [==============================] - 0s 21ms/step - loss: 0.2697 - accuracy: 0.8943 - val_loss: 0.2204 - val_accuracy: 0.9188\n",
            "Epoch 45/150\n",
            "18/18 [==============================] - 0s 20ms/step - loss: 0.2384 - accuracy: 0.9122 - val_loss: 0.1711 - val_accuracy: 0.9239\n",
            "Epoch 46/150\n",
            "18/18 [==============================] - 0s 20ms/step - loss: 0.2001 - accuracy: 0.9211 - val_loss: 0.0961 - val_accuracy: 0.9594\n",
            "Epoch 47/150\n",
            "18/18 [==============================] - 0s 20ms/step - loss: 0.2290 - accuracy: 0.9014 - val_loss: 0.1624 - val_accuracy: 0.9239\n",
            "Epoch 48/150\n",
            "18/18 [==============================] - 0s 20ms/step - loss: 0.2951 - accuracy: 0.8853 - val_loss: 0.2220 - val_accuracy: 0.9188\n",
            "Epoch 49/150\n",
            "18/18 [==============================] - 0s 20ms/step - loss: 0.2242 - accuracy: 0.9140 - val_loss: 0.1293 - val_accuracy: 0.9645\n",
            "Epoch 50/150\n",
            "18/18 [==============================] - 0s 20ms/step - loss: 0.2357 - accuracy: 0.9122 - val_loss: 0.1668 - val_accuracy: 0.9289\n",
            "Epoch 51/150\n",
            "18/18 [==============================] - 0s 20ms/step - loss: 0.2661 - accuracy: 0.9068 - val_loss: 0.2645 - val_accuracy: 0.8934\n",
            "Epoch 52/150\n",
            "18/18 [==============================] - 0s 20ms/step - loss: 0.2074 - accuracy: 0.9176 - val_loss: 0.1186 - val_accuracy: 0.9645\n",
            "Epoch 53/150\n",
            "18/18 [==============================] - 0s 20ms/step - loss: 0.2039 - accuracy: 0.9247 - val_loss: 0.2073 - val_accuracy: 0.9239\n",
            "Epoch 54/150\n",
            "18/18 [==============================] - 0s 21ms/step - loss: 0.1781 - accuracy: 0.9391 - val_loss: 0.1169 - val_accuracy: 0.9492\n",
            "Epoch 55/150\n",
            "18/18 [==============================] - 0s 20ms/step - loss: 0.1791 - accuracy: 0.9265 - val_loss: 0.1391 - val_accuracy: 0.9442\n",
            "Epoch 56/150\n",
            "18/18 [==============================] - 0s 20ms/step - loss: 0.1640 - accuracy: 0.9319 - val_loss: 0.1461 - val_accuracy: 0.9594\n",
            "Epoch 57/150\n",
            "18/18 [==============================] - 0s 20ms/step - loss: 0.1948 - accuracy: 0.9301 - val_loss: 0.1131 - val_accuracy: 0.9543\n",
            "Epoch 58/150\n",
            "18/18 [==============================] - 0s 23ms/step - loss: 0.2090 - accuracy: 0.9373 - val_loss: 0.1389 - val_accuracy: 0.9492\n",
            "Epoch 59/150\n",
            "18/18 [==============================] - 0s 20ms/step - loss: 0.1805 - accuracy: 0.9409 - val_loss: 0.2125 - val_accuracy: 0.9188\n",
            "Epoch 60/150\n",
            "18/18 [==============================] - 0s 20ms/step - loss: 0.2107 - accuracy: 0.9140 - val_loss: 0.2618 - val_accuracy: 0.8832\n",
            "Epoch 61/150\n",
            "18/18 [==============================] - 0s 21ms/step - loss: 0.1971 - accuracy: 0.9211 - val_loss: 0.1513 - val_accuracy: 0.9442\n",
            "Epoch 62/150\n",
            "18/18 [==============================] - 1s 49ms/step - loss: 0.2021 - accuracy: 0.9301 - val_loss: 0.2007 - val_accuracy: 0.9340\n",
            "Epoch 63/150\n",
            "18/18 [==============================] - 1s 51ms/step - loss: 0.2042 - accuracy: 0.9247 - val_loss: 0.1959 - val_accuracy: 0.9391\n",
            "Epoch 64/150\n",
            "18/18 [==============================] - 1s 31ms/step - loss: 0.2042 - accuracy: 0.9158 - val_loss: 0.1552 - val_accuracy: 0.9442\n",
            "Epoch 65/150\n",
            "18/18 [==============================] - 1s 32ms/step - loss: 0.1561 - accuracy: 0.9409 - val_loss: 0.1578 - val_accuracy: 0.9442\n",
            "Epoch 66/150\n",
            "18/18 [==============================] - 1s 28ms/step - loss: 0.1531 - accuracy: 0.9373 - val_loss: 0.1484 - val_accuracy: 0.9442\n",
            "Epoch 67/150\n",
            "18/18 [==============================] - 0s 22ms/step - loss: 0.1417 - accuracy: 0.9444 - val_loss: 0.1151 - val_accuracy: 0.9746\n",
            "Epoch 68/150\n",
            "18/18 [==============================] - 0s 20ms/step - loss: 0.1748 - accuracy: 0.9337 - val_loss: 0.1221 - val_accuracy: 0.9543\n",
            "Epoch 69/150\n",
            "18/18 [==============================] - 0s 20ms/step - loss: 0.1855 - accuracy: 0.9355 - val_loss: 0.1762 - val_accuracy: 0.9543\n",
            "Epoch 70/150\n",
            "18/18 [==============================] - 0s 19ms/step - loss: 0.1536 - accuracy: 0.9373 - val_loss: 0.1073 - val_accuracy: 0.9594\n",
            "Epoch 71/150\n",
            "18/18 [==============================] - 0s 20ms/step - loss: 0.1728 - accuracy: 0.9444 - val_loss: 0.1790 - val_accuracy: 0.9442\n",
            "Epoch 72/150\n",
            "18/18 [==============================] - 0s 21ms/step - loss: 0.1826 - accuracy: 0.9355 - val_loss: 0.1700 - val_accuracy: 0.9289\n",
            "Epoch 73/150\n",
            "18/18 [==============================] - 0s 20ms/step - loss: 0.1460 - accuracy: 0.9391 - val_loss: 0.1551 - val_accuracy: 0.9340\n",
            "Epoch 74/150\n",
            "18/18 [==============================] - 0s 21ms/step - loss: 0.1693 - accuracy: 0.9373 - val_loss: 0.2159 - val_accuracy: 0.9442\n",
            "Epoch 75/150\n",
            "18/18 [==============================] - 0s 20ms/step - loss: 0.1431 - accuracy: 0.9534 - val_loss: 0.4147 - val_accuracy: 0.8985\n",
            "Epoch 76/150\n",
            "18/18 [==============================] - 0s 21ms/step - loss: 0.1534 - accuracy: 0.9355 - val_loss: 0.1441 - val_accuracy: 0.9645\n",
            "Epoch 77/150\n",
            "18/18 [==============================] - 0s 20ms/step - loss: 0.1795 - accuracy: 0.9355 - val_loss: 0.1236 - val_accuracy: 0.9695\n",
            "Epoch 78/150\n",
            "18/18 [==============================] - 0s 21ms/step - loss: 0.1606 - accuracy: 0.9391 - val_loss: 0.0983 - val_accuracy: 0.9695\n",
            "Epoch 79/150\n",
            "18/18 [==============================] - 0s 21ms/step - loss: 0.1344 - accuracy: 0.9534 - val_loss: 0.1263 - val_accuracy: 0.9645\n",
            "Epoch 80/150\n",
            "18/18 [==============================] - 0s 24ms/step - loss: 0.1381 - accuracy: 0.9462 - val_loss: 0.1511 - val_accuracy: 0.9442\n",
            "Epoch 81/150\n",
            "18/18 [==============================] - 0s 21ms/step - loss: 0.1455 - accuracy: 0.9480 - val_loss: 0.1406 - val_accuracy: 0.9695\n",
            "Epoch 82/150\n",
            "18/18 [==============================] - 0s 20ms/step - loss: 0.1327 - accuracy: 0.9534 - val_loss: 0.1970 - val_accuracy: 0.9340\n",
            "Epoch 83/150\n",
            "18/18 [==============================] - 0s 21ms/step - loss: 0.1512 - accuracy: 0.9391 - val_loss: 0.1683 - val_accuracy: 0.9543\n",
            "Epoch 84/150\n",
            "18/18 [==============================] - 0s 21ms/step - loss: 0.1627 - accuracy: 0.9427 - val_loss: 0.2155 - val_accuracy: 0.9239\n",
            "Epoch 85/150\n",
            "18/18 [==============================] - 0s 20ms/step - loss: 0.1423 - accuracy: 0.9444 - val_loss: 0.1344 - val_accuracy: 0.9492\n",
            "Epoch 86/150\n",
            "18/18 [==============================] - 0s 24ms/step - loss: 0.1470 - accuracy: 0.9427 - val_loss: 0.1489 - val_accuracy: 0.9543\n",
            "Epoch 87/150\n",
            "18/18 [==============================] - 1s 34ms/step - loss: 0.1519 - accuracy: 0.9479 - val_loss: 0.0933 - val_accuracy: 0.9442\n",
            "Epoch 88/150\n",
            "18/18 [==============================] - 1s 37ms/step - loss: 0.1393 - accuracy: 0.9480 - val_loss: 0.1267 - val_accuracy: 0.9645\n",
            "Epoch 89/150\n",
            "18/18 [==============================] - 1s 33ms/step - loss: 0.1337 - accuracy: 0.9570 - val_loss: 0.1394 - val_accuracy: 0.9492\n",
            "Epoch 90/150\n",
            "18/18 [==============================] - 1s 33ms/step - loss: 0.1048 - accuracy: 0.9624 - val_loss: 0.1570 - val_accuracy: 0.9391\n",
            "Epoch 91/150\n",
            "18/18 [==============================] - 1s 32ms/step - loss: 0.1324 - accuracy: 0.9552 - val_loss: 0.2670 - val_accuracy: 0.9188\n",
            "Epoch 92/150\n",
            "18/18 [==============================] - 0s 20ms/step - loss: 0.1410 - accuracy: 0.9427 - val_loss: 0.1624 - val_accuracy: 0.9492\n",
            "Epoch 93/150\n",
            "18/18 [==============================] - 0s 20ms/step - loss: 0.0990 - accuracy: 0.9588 - val_loss: 0.1956 - val_accuracy: 0.9391\n",
            "Epoch 94/150\n",
            "18/18 [==============================] - 0s 20ms/step - loss: 0.1423 - accuracy: 0.9498 - val_loss: 0.1254 - val_accuracy: 0.9645\n",
            "Epoch 95/150\n",
            "18/18 [==============================] - 0s 20ms/step - loss: 0.1128 - accuracy: 0.9549 - val_loss: 0.1126 - val_accuracy: 0.9645\n",
            "Epoch 96/150\n",
            "18/18 [==============================] - 0s 20ms/step - loss: 0.1070 - accuracy: 0.9659 - val_loss: 0.1043 - val_accuracy: 0.9594\n",
            "Epoch 97/150\n",
            "18/18 [==============================] - 0s 21ms/step - loss: 0.0781 - accuracy: 0.9731 - val_loss: 0.1244 - val_accuracy: 0.9645\n",
            "Epoch 98/150\n",
            "18/18 [==============================] - 0s 20ms/step - loss: 0.1083 - accuracy: 0.9624 - val_loss: 0.1132 - val_accuracy: 0.9543\n",
            "Epoch 99/150\n",
            "18/18 [==============================] - 0s 20ms/step - loss: 0.1432 - accuracy: 0.9498 - val_loss: 0.2854 - val_accuracy: 0.9188\n",
            "Epoch 100/150\n",
            "18/18 [==============================] - 0s 20ms/step - loss: 0.1445 - accuracy: 0.9355 - val_loss: 0.1293 - val_accuracy: 0.9391\n",
            "Epoch 101/150\n",
            "18/18 [==============================] - 0s 20ms/step - loss: 0.1212 - accuracy: 0.9534 - val_loss: 0.1233 - val_accuracy: 0.9543\n",
            "Epoch 102/150\n",
            "18/18 [==============================] - 0s 21ms/step - loss: 0.1336 - accuracy: 0.9516 - val_loss: 0.1207 - val_accuracy: 0.9594\n",
            "Epoch 103/150\n",
            "18/18 [==============================] - 0s 20ms/step - loss: 0.1088 - accuracy: 0.9552 - val_loss: 0.1269 - val_accuracy: 0.9492\n",
            "Epoch 104/150\n",
            "18/18 [==============================] - 0s 20ms/step - loss: 0.1366 - accuracy: 0.9516 - val_loss: 0.1360 - val_accuracy: 0.9492\n",
            "Epoch 105/150\n",
            "18/18 [==============================] - 0s 20ms/step - loss: 0.1144 - accuracy: 0.9516 - val_loss: 0.1585 - val_accuracy: 0.9645\n",
            "Epoch 106/150\n",
            "18/18 [==============================] - 0s 21ms/step - loss: 0.1056 - accuracy: 0.9642 - val_loss: 0.1586 - val_accuracy: 0.9594\n",
            "Epoch 107/150\n",
            "18/18 [==============================] - 0s 21ms/step - loss: 0.1127 - accuracy: 0.9570 - val_loss: 0.1906 - val_accuracy: 0.9391\n",
            "Epoch 108/150\n",
            "18/18 [==============================] - 0s 21ms/step - loss: 0.1315 - accuracy: 0.9498 - val_loss: 0.1023 - val_accuracy: 0.9645\n",
            "Epoch 109/150\n",
            "18/18 [==============================] - 0s 21ms/step - loss: 0.1162 - accuracy: 0.9516 - val_loss: 0.1063 - val_accuracy: 0.9543\n",
            "Epoch 110/150\n",
            "18/18 [==============================] - 0s 21ms/step - loss: 0.1323 - accuracy: 0.9480 - val_loss: 0.1228 - val_accuracy: 0.9594\n",
            "Epoch 111/150\n",
            "18/18 [==============================] - 0s 21ms/step - loss: 0.1147 - accuracy: 0.9588 - val_loss: 0.1255 - val_accuracy: 0.9594\n",
            "Epoch 112/150\n",
            "18/18 [==============================] - 0s 23ms/step - loss: 0.1756 - accuracy: 0.9373 - val_loss: 0.1383 - val_accuracy: 0.9391\n",
            "Epoch 113/150\n",
            "18/18 [==============================] - 1s 33ms/step - loss: 0.1138 - accuracy: 0.9583 - val_loss: 0.1388 - val_accuracy: 0.9594\n",
            "Epoch 114/150\n",
            "18/18 [==============================] - 1s 34ms/step - loss: 0.0933 - accuracy: 0.9659 - val_loss: 0.1248 - val_accuracy: 0.9746\n",
            "Epoch 115/150\n",
            "18/18 [==============================] - 1s 37ms/step - loss: 0.1296 - accuracy: 0.9606 - val_loss: 0.1218 - val_accuracy: 0.9645\n",
            "Epoch 116/150\n",
            "18/18 [==============================] - 1s 29ms/step - loss: 0.1332 - accuracy: 0.9570 - val_loss: 0.1567 - val_accuracy: 0.9594\n",
            "Epoch 117/150\n",
            "18/18 [==============================] - 0s 21ms/step - loss: 0.1465 - accuracy: 0.9498 - val_loss: 0.0996 - val_accuracy: 0.9594\n",
            "Epoch 118/150\n",
            "18/18 [==============================] - 0s 21ms/step - loss: 0.0876 - accuracy: 0.9677 - val_loss: 0.1318 - val_accuracy: 0.9442\n",
            "Epoch 119/150\n",
            "18/18 [==============================] - 0s 24ms/step - loss: 0.0916 - accuracy: 0.9624 - val_loss: 0.1263 - val_accuracy: 0.9442\n",
            "Epoch 120/150\n",
            "18/18 [==============================] - 0s 20ms/step - loss: 0.0894 - accuracy: 0.9695 - val_loss: 0.1269 - val_accuracy: 0.9543\n",
            "Epoch 121/150\n",
            "18/18 [==============================] - 0s 21ms/step - loss: 0.0978 - accuracy: 0.9570 - val_loss: 0.0926 - val_accuracy: 0.9645\n",
            "Epoch 122/150\n",
            "18/18 [==============================] - 0s 21ms/step - loss: 0.1055 - accuracy: 0.9514 - val_loss: 0.1970 - val_accuracy: 0.9442\n",
            "Epoch 123/150\n",
            "18/18 [==============================] - 0s 22ms/step - loss: 0.0887 - accuracy: 0.9659 - val_loss: 0.1612 - val_accuracy: 0.9543\n",
            "Epoch 124/150\n",
            "18/18 [==============================] - 0s 21ms/step - loss: 0.1031 - accuracy: 0.9588 - val_loss: 0.1386 - val_accuracy: 0.9442\n",
            "Epoch 125/150\n",
            "18/18 [==============================] - 0s 21ms/step - loss: 0.0750 - accuracy: 0.9731 - val_loss: 0.2021 - val_accuracy: 0.9492\n",
            "Epoch 126/150\n",
            "18/18 [==============================] - 0s 20ms/step - loss: 0.1096 - accuracy: 0.9552 - val_loss: 0.1856 - val_accuracy: 0.9543\n",
            "Epoch 127/150\n",
            "18/18 [==============================] - 0s 20ms/step - loss: 0.1266 - accuracy: 0.9498 - val_loss: 0.2023 - val_accuracy: 0.9442\n",
            "Epoch 128/150\n",
            "18/18 [==============================] - 0s 20ms/step - loss: 0.1263 - accuracy: 0.9570 - val_loss: 0.1025 - val_accuracy: 0.9645\n",
            "Epoch 129/150\n",
            "18/18 [==============================] - 0s 20ms/step - loss: 0.1042 - accuracy: 0.9624 - val_loss: 0.0864 - val_accuracy: 0.9695\n",
            "Epoch 130/150\n",
            "18/18 [==============================] - 0s 21ms/step - loss: 0.0735 - accuracy: 0.9677 - val_loss: 0.0666 - val_accuracy: 0.9848\n",
            "Epoch 131/150\n",
            "18/18 [==============================] - 0s 20ms/step - loss: 0.0684 - accuracy: 0.9659 - val_loss: 0.1021 - val_accuracy: 0.9695\n",
            "Epoch 132/150\n",
            "18/18 [==============================] - 0s 21ms/step - loss: 0.1037 - accuracy: 0.9642 - val_loss: 0.1359 - val_accuracy: 0.9695\n",
            "Epoch 133/150\n",
            "18/18 [==============================] - 0s 20ms/step - loss: 0.0906 - accuracy: 0.9635 - val_loss: 0.1041 - val_accuracy: 0.9543\n",
            "Epoch 134/150\n",
            "18/18 [==============================] - 0s 20ms/step - loss: 0.1167 - accuracy: 0.9606 - val_loss: 0.0915 - val_accuracy: 0.9746\n",
            "Epoch 135/150\n",
            "18/18 [==============================] - 0s 20ms/step - loss: 0.0733 - accuracy: 0.9767 - val_loss: 0.1891 - val_accuracy: 0.9492\n",
            "Epoch 136/150\n",
            "18/18 [==============================] - 0s 21ms/step - loss: 0.0807 - accuracy: 0.9731 - val_loss: 0.1400 - val_accuracy: 0.9594\n",
            "Epoch 137/150\n",
            "18/18 [==============================] - 1s 30ms/step - loss: 0.0705 - accuracy: 0.9695 - val_loss: 0.1144 - val_accuracy: 0.9645\n",
            "Epoch 138/150\n",
            "18/18 [==============================] - 1s 34ms/step - loss: 0.0979 - accuracy: 0.9677 - val_loss: 0.1253 - val_accuracy: 0.9543\n",
            "Epoch 139/150\n",
            "18/18 [==============================] - 1s 33ms/step - loss: 0.0637 - accuracy: 0.9767 - val_loss: 0.1273 - val_accuracy: 0.9645\n",
            "Epoch 140/150\n",
            "18/18 [==============================] - 1s 35ms/step - loss: 0.0669 - accuracy: 0.9767 - val_loss: 0.0934 - val_accuracy: 0.9746\n",
            "Epoch 141/150\n",
            "18/18 [==============================] - 1s 32ms/step - loss: 0.0684 - accuracy: 0.9749 - val_loss: 0.1415 - val_accuracy: 0.9645\n",
            "Epoch 142/150\n",
            "18/18 [==============================] - 1s 33ms/step - loss: 0.0921 - accuracy: 0.9677 - val_loss: 0.1360 - val_accuracy: 0.9492\n",
            "Epoch 143/150\n",
            "18/18 [==============================] - 0s 20ms/step - loss: 0.1118 - accuracy: 0.9624 - val_loss: 0.1311 - val_accuracy: 0.9645\n",
            "Epoch 144/150\n",
            "18/18 [==============================] - 0s 23ms/step - loss: 0.0841 - accuracy: 0.9588 - val_loss: 0.7572 - val_accuracy: 0.8071\n",
            "Epoch 145/150\n",
            "18/18 [==============================] - 0s 22ms/step - loss: 0.1018 - accuracy: 0.9642 - val_loss: 0.2636 - val_accuracy: 0.9289\n",
            "Epoch 146/150\n",
            "18/18 [==============================] - 0s 20ms/step - loss: 0.1418 - accuracy: 0.9444 - val_loss: 0.2002 - val_accuracy: 0.9239\n",
            "Epoch 147/150\n",
            "18/18 [==============================] - 0s 20ms/step - loss: 0.0839 - accuracy: 0.9695 - val_loss: 0.2137 - val_accuracy: 0.9442\n",
            "Epoch 148/150\n",
            "18/18 [==============================] - 0s 20ms/step - loss: 0.0626 - accuracy: 0.9821 - val_loss: 0.1490 - val_accuracy: 0.9442\n",
            "Epoch 149/150\n",
            "18/18 [==============================] - 0s 20ms/step - loss: 0.0613 - accuracy: 0.9785 - val_loss: 0.2786 - val_accuracy: 0.9289\n",
            "Epoch 150/150\n",
            "18/18 [==============================] - 0s 21ms/step - loss: 0.0764 - accuracy: 0.9677 - val_loss: 0.2678 - val_accuracy: 0.9442\n",
            "[INFO] serializing network ...\n"
          ]
        }
      ]
    },
    {
      "cell_type": "markdown",
      "source": [
        "### Model Evaluation"
      ],
      "metadata": {
        "id": "kXIei5uYjO1e"
      }
    },
    {
      "cell_type": "code",
      "source": [
        "_# plot the training and validation accuracy\n",
        "N = np.arange(0, 150)\n",
        "plt.style.use(\"ggplot\")\n",
        "plt.figure(figsize = [10,8])\n",
        "plt.plot(N, H.history[\"accuracy\"], label=\"train_acc\")\n",
        "plt.plot(N, H.history[\"val_accuracy\"], label=\"val_acc\")\n",
        "plt.title(\"CNN: Training and Validation Accuracy\")\n",
        "plt.xlabel(\"Epoch #\", weight=\"bold\")\n",
        "plt.ylabel(\"Accuracy\", weight=\"bold\")\n",
        "plt.legend()\n",
        "plt.show()"
      ],
      "metadata": {
        "colab": {
          "base_uri": "https://localhost:8080/",
          "height": 723
        },
        "id": "vWnqzD8QcV_X",
        "outputId": "f2c8f6e7-2f68-43c7-eb16-002606c36965"
      },
      "execution_count": 34,
      "outputs": [
        {
          "output_type": "display_data",
          "data": {
            "text/plain": [
              "<Figure size 1000x800 with 1 Axes>"
            ],
            "image/png": "[encoded data removed]"
          },
          "metadata": {}
        }
      ]
    },
    {
      "cell_type": "code",
      "source": [
        "# plot the training and validation loss\n",
        "N = np.arange(0, 150)\n",
        "plt.style.use(\"ggplot\")\n",
        "plt.figure(figsize = [10,8])\n",
        "plt.plot(N, H.history[\"loss\"], label=\"train_loss\")\n",
        "plt.plot(N, H.history[\"val_loss\"], label=\"val_loss\")\n",
        "plt.title(\"CNN: Training & Validation Loss\")\n",
        "plt.xlabel(\"Epoch #\", weight=\"bold\")\n",
        "plt.ylabel(\"Loss\", weight=\"bold\")\n",
        "plt.legend()\n",
        "plt.show()"
      ],
      "metadata": {
        "colab": {
          "base_uri": "https://localhost:8080/",
          "height": 723
        },
        "id": "xbZkUpl0dE15",
        "outputId": "9e9b551d-74d4-4aba-f202-bc7995d9e268"
      },
      "execution_count": 35,
      "outputs": [
        {
          "output_type": "display_data",
          "data": {
            "text/plain": [
              "<Figure size 1000x800 with 1 Axes>"
            ],
            "image/png": "[encoded data removed]"
          },
          "metadata": {}
        }
      ]
    },
    {
      "cell_type": "markdown",
      "source": [
        "### **Classification Report**"
      ],
      "metadata": {
        "id": "5sna97PAjAlU"
      }
    },
    {
      "cell_type": "code",
      "source": [
        "# Classification Report for the model on the training data\n",
        "predictions = model.predict(testX, batch_size=BS)\n",
        "predicted_labels = np.argmax(predictions, axis=1)\n",
        "print(classification_report(testY.argmax(axis=1), predicted_labels))"
      ],
      "metadata": {
        "colab": {
          "base_uri": "https://localhost:8080/"
        },
        "id": "bk-9RDuPhqy6",
        "outputId": "a7bf7eb3-8303-4019-bae4-41d71ee8b147"
      },
      "execution_count": 43,
      "outputs": [
        {
          "output_type": "stream",
          "name": "stdout",
          "text": [
            "7/7 [==============================] - 0s 2ms/step\n",
            "              precision    recall  f1-score   support\n",
            "\n",
            "           0       1.00      0.94      0.97        84\n",
            "           1       0.93      0.94      0.93        81\n",
            "           2       0.86      0.97      0.91        32\n",
            "\n",
            "    accuracy                           0.94       197\n",
            "   macro avg       0.93      0.95      0.94       197\n",
            "weighted avg       0.95      0.94      0.94       197\n",
            "\n"
          ]
        }
      ]
    },
    {
      "cell_type": "code",
      "source": [
        "!dir"
      ],
      "metadata": {
        "colab": {
          "base_uri": "https://localhost:8080/"
        },
        "id": "it0jfR5FdHPx",
        "outputId": "c9a25cbe-199b-49d5-f55a-7176c20b2a31"
      },
      "execution_count": 36,
      "outputs": [
        {
          "output_type": "stream",
          "name": "stdout",
          "text": [
            "cnn_model_150.h5  dataset  test_examples  Untitled0.ipynb\n"
          ]
        }
      ]
    },
    {
      "cell_type": "code",
      "source": [
        "def display_img(img):\n",
        "    fig = plt.figure(figsize=(12,10))\n",
        "    # plt.grid(b=None)\n",
        "    ax = fig.add_subplot(111)\n",
        "    ax.imshow(img)"
      ],
      "metadata": {
        "id": "PyIPbUcAeM8I"
      },
      "execution_count": 38,
      "outputs": []
    },
    {
      "cell_type": "code",
      "source": [
        "# load the model\n",
        "print(\"[INFO] loading network and...\")\n",
        "model = load_model(\"cnn_model_150.h5\")"
      ],
      "metadata": {
        "colab": {
          "base_uri": "https://localhost:8080/"
        },
        "id": "8Mg3zpo5fGMa",
        "outputId": "0e3d41b8-589f-4e55-b875-8303794f58a9"
      },
      "execution_count": 39,
      "outputs": [
        {
          "output_type": "stream",
          "name": "stdout",
          "text": [
            "[INFO] loading network and...\n"
          ]
        }
      ]
    },
    {
      "cell_type": "code",
      "source": [
        "# grab the image paths and randomly shuffle themt\n",
        "testImagePaths = sorted(list(paths.list_images('test_examples')))   # data folder with 2 categorical folders\n",
        "\n",
        "all_class = [\"Boots\", \"Sandals\", \"Slippers\"]\n",
        "\n",
        "\n",
        "# progress bar\n",
        "with tqdm(total=len(testImagePaths)) as pbar:\n",
        "\n",
        "    for imagePath in testImagePaths:\n",
        "\n",
        "        # load the image\n",
        "        image = cv2.imread(imagePath)\n",
        "        orig = image.copy()\n",
        "\n",
        "        # pre-process the image for classification\n",
        "        image = cv2.resize(image, (28, 28))\n",
        "        image = image.astype(\"float\") / 255.0\n",
        "        image = img_to_array(image)\n",
        "        image = np.expand_dims(image, axis=0)\n",
        "\n",
        "        # classify the input image\n",
        "        prd_conf= model.predict(image)[0] # [[0.1 , 0.8 , 0.1]]\n",
        "        print(prd_conf)\n",
        "\n",
        "        # build the label\n",
        "        label = all_class[np.argmax(prd_conf)] #[b f s]-> f\n",
        "        proba = prd_conf[np.argmax(prd_conf)] # [0.1 , 0.8 , 0.1]  -> 0.8\n",
        "\n",
        "        label = \"{}: {:.2f}%\".format(label, proba * 100)\n",
        "\n",
        "        # draw the label on the image\n",
        "        output = imutils.resize(orig, width=400)\n",
        "        cv2.putText(output, label, (10, 25),  cv2.FONT_HERSHEY_SIMPLEX,\n",
        "            0.7, (255, 0, 0), 2)\n",
        "\n",
        "        # convert img to rgb format and display in notebook\n",
        "        img = cv2.cvtColor(output, cv2.COLOR_BGR2RGB)\n",
        "        display_img(img)\n",
        "\n",
        "        pbar.update(1)"
      ],
      "metadata": {
        "id": "Ru7r4XSBfLtR"
      },
      "execution_count": null,
      "outputs": []
    },
    {
      "cell_type": "code",
      "source": [],
      "metadata": {
        "id": "XIWDh_rXfadP"
      },
      "execution_count": null,
      "outputs": []
    }
  ]
}